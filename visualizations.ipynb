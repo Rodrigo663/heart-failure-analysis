{
 "cells": [
  {
   "cell_type": "code",
   "execution_count": null,
   "id": "71a4c513",
   "metadata": {},
   "outputs": [],
   "source": [
    "import pandas as pd\n",
    "import matplotlib.pyplot as plt\n",
    "import numpy as np\n",
    "import math\n",
    "import seaborn as sns\n",
    "\n",
    "\n",
    "\n",
    "df = pd.read_csv('./heart-data.csv')\n",
    "\n",
    "plt.style.use('default')"
   ]
  },
  {
   "cell_type": "markdown",
   "id": "e645b92c",
   "metadata": {},
   "source": [
    "# How does cholesterol affects the probability of a heart failure?"
   ]
  },
  {
   "cell_type": "code",
   "execution_count": null,
   "id": "4dccf5c6",
   "metadata": {},
   "outputs": [],
   "source": [
    "mean_cholesterol = df['Cholesterol'].mean()\n",
    "bigger_200 = df[df['Cholesterol']> 200]\n",
    "\n",
    "print('INSIGHTS:')\n",
    "print(f'{round((bigger_200.shape[0] / df.shape[0])  * 100)}% of heart failure patients had a cholesterol higher than recommended (200 mm/dl).')\n",
    "print(f'The mean serum cholesterol is of {round(mean_cholesterol)} mm/dl.')\n",
    "\n",
    "df['Cholesterol'].sort_values()\n",
    "# PUT A BAR GRAPH\n",
    "plt.figure(figsize=(8,3), dpi=200)\n",
    "hist = sns.histplot(data=df, x='Cholesterol', kde=True)\n",
    "\n",
    "\n",
    "\n",
    "fig = hist.get_figure()\n",
    "fig.savefig(\"figures/histplot.png\") "
   ]
  },
  {
   "cell_type": "markdown",
   "id": "b622928b",
   "metadata": {},
   "source": [
    "# Does the cholesterol levels affect the Maximum Heart Rate?"
   ]
  },
  {
   "cell_type": "code",
   "execution_count": null,
   "id": "02281ba7",
   "metadata": {},
   "outputs": [],
   "source": [
    "# GRAPH BLOOD SUGAR AND CHOLESTEROL\n",
    "plt.figure(figsize=(8,3), dpi=200)\n",
    "scatter = sns.scatterplot(data=df,x='Cholesterol', y='MaxHR')\n",
    "\n",
    "\n",
    "fig = scatter.get_figure()\n",
    "fig.savefig(\"figures/scatterplot.png\") "
   ]
  },
  {
   "cell_type": "markdown",
   "id": "ce45afaf",
   "metadata": {},
   "source": [
    "# How heart diseases affects variables such as Chest Pain Type and Exercise Angina?"
   ]
  },
  {
   "cell_type": "code",
   "execution_count": null,
   "id": "35aeeb85",
   "metadata": {},
   "outputs": [],
   "source": [
    "def change_width(ax, new_value) :\n",
    "    for patch in ax.patches :\n",
    "        current_width = patch.get_width()\n",
    "        diff = current_width - new_value\n",
    "\n",
    "        # we change the bar width\n",
    "        patch.set_width(new_value)\n",
    "\n",
    "        # we recenter the bar\n",
    "        patch.set_x(patch.get_x() + diff * .5)\n",
    "disease = df[df['HeartDisease'] ==1]\n",
    "no_disease = df[df['HeartDisease'] ==0]\n",
    "\n",
    "\n",
    "angina_disease = disease[disease['ExerciseAngina'] == 'Y'].shape[0]\n",
    "angina_no_disease = no_disease[no_disease['ExerciseAngina'] == 'Y'].shape[0]\n",
    "\n",
    "\n",
    "\n",
    "print(f'{round(angina_disease/disease.shape[0] * 100)}% of patients with heart disease had shown exercise angina, whereas'\n",
    "      f' only {round(angina_no_disease/no_disease.shape[0] * 100)}% of patients without heart disease had shown a sign of it.')\n",
    "# BAR GRAPH COMPARING BOTH\n",
    "\n",
    "plt.figure(figsize=(4,3.5), dpi=200)\n",
    "bar = sns.barplot(data=df,  x=['Heart Disease', 'No Heart Disease'], y=[round(angina_disease/disease.shape[0] * 100),\n",
    "            \t\t\tround(angina_no_disease/no_disease.shape[0] * 100)], dodge=False);\n",
    "\n",
    "plt.yticks([0, 25,50,75,100]);\n",
    "\n",
    "\n",
    "fig = bar.get_figure()\n",
    "fig.savefig(\"figures/barplot.png\")\n",
    "\n"
   ]
  },
  {
   "cell_type": "markdown",
   "id": "77bfdd1e",
   "metadata": {},
   "source": [
    "# Most common chest pain types"
   ]
  },
  {
   "cell_type": "code",
   "execution_count": null,
   "id": "1b660c50",
   "metadata": {},
   "outputs": [],
   "source": [
    "types_disease = disease['ChestPainType'].value_counts()\n",
    "types_no_disease = no_disease['ChestPainType'].value_counts()\n",
    "\n",
    "chest_pains = {\"TA\": \"Typical Angina\", \"ATA\": \"Atypical Angina\", \"NAP\": \"Non-Anginal Pain\", \"ASY\": \"Asymptomatic\"}\n",
    "\n",
    "print(f'- The most common chest pain for patients with heart-disease is the {chest_pains[types_disease.index[0]]}')\n",
    "print(f'- The most common chest pain for patients with no heart-disease is the {chest_pains[types_no_disease.index[0]]}')\n",
    "\n",
    "# TWO PIZZA BARS\n",
    "\n",
    "import matplotlib.pyplot as plt\n",
    "\n",
    "# Pie chart, where the slices will be ordered and plotted counter-clockwise:\n",
    "\n",
    "\n",
    "\n",
    "labels = list(chest_pains.values())\n",
    "labels2 = ['Typical Angina','Atypical Angina', 'Other']\n",
    "\n",
    "sizes = list(types_disease)[0:2] + [list(types_disease)[2] + list(types_disease)[3]]\n",
    "\n",
    "\n",
    "sizes2 = list(types_no_disease)\n",
    "\n",
    "fig,axes = plt.subplots(nrows=2, ncols=1, figsize=(8,6), dpi=200)\n",
    "\n",
    "explode = (0, 0.1, 0, 0)  # only \"explode\" the 2nd slice (i.e. 'Hogs')\n",
    "\n",
    "axes[0].set_title('Heart Disease',pad=18, fontweight='black',fontsize=10,)\n",
    "axes[0].pie(sizes, explode=(0, 0.1, 0),  labels=labels2, autopct='%1.1f%%',\n",
    "        shadow=True, startangle=90,textprops={'fontsize': 6})\n",
    "axes[0].axis('equal')  # Equal aspect ratio ensures that pie is drawn as a circle.\n",
    "\n",
    "\n",
    "\n",
    "axes[1].pie(sizes2, explode=explode, labels=labels, autopct='%1.1f%%',\n",
    "        shadow=True, startangle=90, textprops={'fontsize': 6})\n",
    "axes[1].axis('equal')  # Equal aspect ratio ensures that pie is drawn as a circle.\n",
    "axes[1].set_title('No Heart Disease', fontsize=10, pad=18,fontweight='black')\n",
    "\n",
    "fig.subplots_adjust(hspace=0.3)\n",
    "\n",
    "fig.savefig(\"figures/piecharts.png\")"
   ]
  },
  {
   "cell_type": "code",
   "execution_count": null,
   "id": "75b4917c",
   "metadata": {},
   "outputs": [],
   "source": []
  }
 ],
 "metadata": {
  "kernelspec": {
   "display_name": "Python 3 (ipykernel)",
   "language": "python",
   "name": "python3"
  },
  "language_info": {
   "codemirror_mode": {
    "name": "ipython",
    "version": 3
   },
   "file_extension": ".py",
   "mimetype": "text/x-python",
   "name": "python",
   "nbconvert_exporter": "python",
   "pygments_lexer": "ipython3",
   "version": "3.9.7"
  }
 },
 "nbformat": 4,
 "nbformat_minor": 5
}
